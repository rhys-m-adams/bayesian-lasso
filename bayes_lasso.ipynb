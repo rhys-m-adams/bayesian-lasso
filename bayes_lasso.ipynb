{
 "cells": [
  {
   "cell_type": "markdown",
   "metadata": {},
   "source": [
    "This shows a workthrough of two methods for performing Bayesian Lasso. Say you have a system of linear equations \n",
    "\\begin{align}\n",
    "\\mathbf{A\\cdot x = y}.\n",
    "\\end{align}\n",
    "$\\mathbf{A}$ is an $m\\times n$ matrix of independant variables, $\\mathbf{y}$ is a vector of dependent measurements. You want to fit $\\mathbf{x}$, but you want to avoid overfitting too many parameters. In such a scenario, you might minimize the objective function \n",
    "\\begin{align}\n",
    "O = \\frac{1}{2m}\\left ( \\mathbf{A\\cdot x - y} \\right)^T \\cdot \\left ( \\mathbf{A\\cdot x - y} \\right) - \\lambda \\sum_i^n |x_i|\n",
    "\\end{align}\n",
    "The left term is a typical sum of squares objective function, the right term is called a Lasso penalty, with the strength of the penalty determined by $\\lambda$. This problem is minimized by Python's sklearn.linear_model Lasso packages. I usually use cross-validation to learn the lasso penalty, although one can also use BIC or AIC criteria to find the best lasso penalty. The lasso penalty can be determined as follows"
   ]
  },
  {
   "cell_type": "code",
   "execution_count": 1,
   "metadata": {},
   "outputs": [],
   "source": [
    "%matplotlib inline\n",
    "import numpy as np\n",
    "import matplotlib.pyplot as plt\n",
    "from sklearn.linear_model import lasso_path, Lasso\n",
    "import pylab\n",
    "\n",
    "pylab.rcParams['font.size'] = 18\n",
    "\n",
    "def lasso_CV(A,y, num_penalties=100, log_penalty_range=6):\n",
    "    SSE = 0 #cross validated SSE\n",
    "    m = A.shape[0] \n",
    "    subsets = list(np.arange(m))\n",
    "    max_penalty = np.max(np.abs(- A.T.dot(y) / m)) # lambda should never be higher than this boundary\n",
    "    max_penalty *= 10 # optional line, pads a little so that we can see changes in the Lasso stop affecting the model\n",
    "    penalties = np.logspace(np.log10(max_penalty), \n",
    "                            np.log10(max_penalty)-log_penalty_range, \n",
    "                            num_penalties)#penalties to scan\n",
    "    \n",
    "    for jj in range(m):#take out one element from data to split data into test/training sets.\n",
    "        #Learn the model, test it and add to SSE, then rotate\n",
    "        test = subsets.pop(0)\n",
    "        A_train = A[subsets]\n",
    "        y_train = y[subsets]\n",
    "        _ , coef_path, _ = lasso_path(A_train, y_train, alphas=penalties)\n",
    "        A_test = A[test]\n",
    "        y_test = y[test]\n",
    "        SSE += (y_test - A_test.dot(coef_path))**2\n",
    "        subsets.append(test)\n",
    "    \n",
    "    return penalties, SSE"
   ]
  },
  {
   "cell_type": "markdown",
   "metadata": {},
   "source": [
    "Let's make a toy underdetermined data set with more parameters than samples. Only 10 of the parameters will actually be predictive. "
   ]
  },
  {
   "cell_type": "code",
   "execution_count": 2,
   "metadata": {},
   "outputs": [],
   "source": [
    "np.random.seed(0)\n",
    "m=100\n",
    "n=500\n",
    "A = np.random.randn(m,n)\n",
    "x_true = np.random.randn(n)\n",
    "x_true[10:] = 0\n",
    "y = A.dot(x_true) + np.random.randn(m)*3"
   ]
  },
  {
   "cell_type": "markdown",
   "metadata": {},
   "source": [
    "Now let's see if we can relearn the x_true parameter. First, let's find a good lasso penalty:"
   ]
  },
  {
   "cell_type": "code",
   "execution_count": 3,
   "metadata": {},
   "outputs": [
    {
     "name": "stderr",
     "output_type": "stream",
     "text": [
      "*c* argument looks like a single numeric RGB or RGBA sequence, which should be avoided as value-mapping will have precedence in case its length matches with *x* & *y*.  Please use the *color* keyword-argument or provide a 2-D array with a single row if you intend to specify the same RGB or RGBA value for all points.\n"
     ]
    },
    {
     "data": {
      "image/png": "[encoded data removed]",
      "text/plain": [
       "<Figure size 432x288 with 1 Axes>"
      ]
     },
     "metadata": {
      "needs_background": "light"
     },
     "output_type": "display_data"
    }
   ],
   "source": [
    "penalties, SSE = lasso_CV(A,y)\n",
    "ind = np.argsort(SSE)[0]\n",
    "best_penalty = penalties[ind]\n",
    "lowest_SSE = SSE[ind]\n",
    "\n",
    "fig = plt.figure()\n",
    "ax = fig.add_axes([0.2,0.2,0.7,0.7])\n",
    "ax.semilogx(penalties, SSE, label=r'$\\lambda$ scan')\n",
    "ax.scatter(best_penalty, lowest_SSE, s=200, c=[1,0,0],label='best')\n",
    "ax.set_xlabel(r'$\\lambda$')\n",
    "ax.set_ylabel('SSE')\n",
    "plt.legend(loc='upper left',scatterpoints=1)\n",
    "plt.show()\n",
    "plt.close()"
   ]
  },
  {
   "cell_type": "markdown",
   "metadata": {},
   "source": [
    "The best $\\lambda$ is just under $1$. Let's see if the model learned with the best penalty matches the true model used to generate the data set:"
   ]
  },
  {
   "cell_type": "code",
   "execution_count": 4,
   "metadata": {},
   "outputs": [
    {
     "data": {
      "image/png": "[encoded data removed]",
      "text/plain": [
       "<Figure size 432x288 with 1 Axes>"
      ]
     },
     "metadata": {
      "needs_background": "light"
     },
     "output_type": "display_data"
    }
   ],
   "source": [
    "clf = Lasso(alpha=best_penalty)\n",
    "clf.fit(A, y)\n",
    "x_fit = clf.coef_\n",
    "fig = plt.figure()\n",
    "ax = fig.add_axes([0.2,0.2,0.7,0.7])\n",
    "ax.scatter(x_true, x_fit, s=100, lw=0)\n",
    "ax.set_xlabel(r'true $x$')\n",
    "ax.set_ylabel(r'fit $x$')\n",
    "ax.set_xticks(range(-2,3))\n",
    "ax.set_yticks(range(-2,3))\n",
    "plt.show()\n",
    "plt.close()"
   ]
  },
  {
   "cell_type": "markdown",
   "metadata": {},
   "source": [
    "Well, the recovery isn't perfect, and part of this is because I've put a relatively strong noise term on a relatively small sample size. So how much can I trust these terms? I have a lot of fit $x$ terms that are non-zero. Is there some sort of way to measure my uncertainty with this fit? Here's where I introduce the Bayesian Lasso. I've implemented Bayesian Lasso as described by https://stackoverflow.com/questions/28290249/bayesian-lasso-using-pymc3, although I've tried to make the usage a bit more automatic. "
   ]
  },
  {
   "cell_type": "code",
   "execution_count": 5,
   "metadata": {},
   "outputs": [
    {
     "name": "stdout",
     "output_type": "stream",
     "text": [
      "Laplace('x0', 0, b=0.559703) * X[:,0] +Laplace('x1', 0, b=0.559703) * X[:,1] +Laplace('x2', 0, b=0.559703) * X[:,2] +Laplace('x3', 0, b=0.559703) * X[:,3] +Laplace('x4', 0, b=0.559703) * X[:,4] +Laplace('x5', 0, b=0.559703) * X[:,5] +Laplace('x6', 0, b=0.559703) * X[:,6] +Laplace('x7', 0, b=0.559703) * X[:,7] +Laplace('x8', 0, b=0.559703) * X[:,8] +Laplace('x9', 0, b=0.559703) * X[:,9] +Laplace('x10', 0, b=0.559703) * X[:,10] +Laplace('x11', 0, b=0.559703) * X[:,11] +Laplace('x12', 0, b=0.559703) * X[:,12] +Laplace('x13', 0, b=0.559703) * X[:,13] +Laplace('x14', 0, b=0.559703) * X[:,14] +Laplace('x15', 0, b=0.559703) * X[:,15] +Laplace('x16', 0, b=0.559703) * X[:,16] +Laplace('x17', 0, b=0.559703) * X[:,17] \n"
     ]
    },
    {
     "data": {
      "text/html": [
       "\n",
       "    <div>\n",
       "        <style>\n",
       "            /* Turns off some styling */\n",
       "            progress {\n",
       "                /* gets rid of default border in Firefox and Opera. */\n",
       "                border: none;\n",
       "                /* Needs to be in here for Safari polyfill so background images work as expected. */\n",
       "                background-size: auto;\n",
       "            }\n",
       "            .progress-bar-interrupted, .progress-bar-interrupted::-webkit-progress-bar {\n",
       "                background: #F44336;\n",
       "            }\n",
       "        </style>\n",
       "      <progress value='13' class='' max='13' style='width:300px; height:20px; vertical-align: middle;'></progress>\n",
       "      100.00% [13/13 00:00<00:00 logp = -313.44, ||grad|| = 0.013996]\n",
       "    </div>\n",
       "    "
      ],
      "text/plain": [
       "<IPython.core.display.HTML object>"
      ]
     },
     "metadata": {},
     "output_type": "display_data"
    },
    {
     "name": "stdout",
     "output_type": "stream",
     "text": [
      "\n"
     ]
    },
    {
     "name": "stderr",
     "output_type": "stream",
     "text": [
      "/Users/radams/Documents/Bayesian_lasso/lasso_PyMC3.py:21: FutureWarning: In v4.0, pm.sample will return an `arviz.InferenceData` object instead of a `MultiTrace` by default. You can pass return_inferencedata=True or return_inferencedata=False to be safe and silence this warning.\n",
      "  trace = sample(num_iter, step, start = start, progressbar=True)\n",
      "Multiprocess sampling (2 chains in 2 jobs)\n",
      "NUTS: [x17, x16, x15, x14, x13, x12, x11, x10, x9, x8, x7, x6, x5, x4, x3, x2, x1, x0]\n"
     ]
    },
    {
     "data": {
      "text/html": [
       "\n",
       "    <div>\n",
       "        <style>\n",
       "            /* Turns off some styling */\n",
       "            progress {\n",
       "                /* gets rid of default border in Firefox and Opera. */\n",
       "                border: none;\n",
       "                /* Needs to be in here for Safari polyfill so background images work as expected. */\n",
       "                background-size: auto;\n",
       "            }\n",
       "            .progress-bar-interrupted, .progress-bar-interrupted::-webkit-progress-bar {\n",
       "                background: #F44336;\n",
       "            }\n",
       "        </style>\n",
       "      <progress value='22000' class='' max='22000' style='width:300px; height:20px; vertical-align: middle;'></progress>\n",
       "      100.00% [22000/22000 00:56<00:00 Sampling 2 chains, 0 divergences]\n",
       "    </div>\n",
       "    "
      ],
      "text/plain": [
       "<IPython.core.display.HTML object>"
      ]
     },
     "metadata": {},
     "output_type": "display_data"
    },
    {
     "name": "stderr",
     "output_type": "stream",
     "text": [
      "Sampling 2 chains for 1_000 tune and 10_000 draw iterations (2_000 + 20_000 draws total) took 75 seconds.\n"
     ]
    }
   ],
   "source": [
    "from lasso_PyMC3 import lasso\n",
    "non_zero = x_fit != 0\n",
    "trace, C, delta = lasso(A[:, non_zero],y, 10000, best_penalty)"
   ]
  },
  {
   "cell_type": "markdown",
   "metadata": {},
   "source": [
    "C is a matrix of parameter values. delta is the number of iterations where autocorrelations drops to 10%. trace is the output from sampling PyMC3. This algorithm was run for 10000 iterations."
   ]
  },
  {
   "cell_type": "code",
   "execution_count": 6,
   "metadata": {},
   "outputs": [
    {
     "data": {
      "image/png": "[encoded data removed]",
      "text/plain": [
       "<Figure size 432x288 with 2 Axes>"
      ]
     },
     "metadata": {
      "needs_background": "light"
     },
     "output_type": "display_data"
    }
   ],
   "source": [
    "x_bayesian = np.zeros(x_fit.shape)\n",
    "x_bayesian_std = np.zeros(x_fit.shape)\n",
    "\n",
    "x_bayesian[non_zero] = np.mean(C[500::delta], axis=0)\n",
    "x_bayesian_std[non_zero] = np.std(C[500::delta], axis=0)\n",
    "Z = x_bayesian / (x_bayesian_std + (x_bayesian_std == 0))\n",
    "\n",
    "fig = plt.figure()\n",
    "ax = fig.add_axes([0.2,0.2,0.7,0.7])\n",
    "cax = ax.scatter(x_true, x_bayesian, c=np.abs(Z), s=50, zorder=9, cmap='cool', lw=0)\n",
    "ax.errorbar(x_true, x_bayesian, yerr=x_bayesian_std,fmt='.', lw=2, zorder=10, c=[0,0,0])\n",
    "cbar = plt.colorbar(cax)\n",
    "cbar.set_label('|Z|')\n",
    "ax.set_xlabel(r'true $x$')\n",
    "ax.set_ylabel(r'bayesian lasso fit $x$')\n",
    "ax.set_xticks(range(-3,4))\n",
    "ax.set_yticks(range(-3,4))\n",
    "plt.show()\n",
    "plt.close()"
   ]
  },
  {
   "cell_type": "markdown",
   "metadata": {},
   "source": [
    "I've also implemented this method with emcee, using the log likelihood function in Park and Casella (1). Specifically, I used the log likelihood\n",
    "\\begin{align}\n",
    "LL= \\frac{m + n+1}{2}\\text{ln} \\left [\\frac{1}{\\sigma^2} \\right] +\\frac{1}{2\\sigma^2} \\left ( \\mathbf{A\\cdot x - y} \\right)^T \\cdot \\left ( \\mathbf{A\\cdot x - y} \\right) - \\frac{\\lambda}{\\sigma} \\sum_i^n |x_i|\n",
    "\\end{align}\n",
    "What kind of result does that give?\n",
    "\n",
    "1. Park, T. and Casella, G. (2008). The bayesian lasso. Journal of the American Statistical Association, 103(482):681–686. "
   ]
  },
  {
   "cell_type": "code",
   "execution_count": 7,
   "metadata": {},
   "outputs": [],
   "source": [
    "from bayesian_lasso_emcee import bayesian_lasso\n",
    "mu, sigma, p, sample_rate = bayesian_lasso(A[:,non_zero],y, best_penalty, x_fit[non_zero])"
   ]
  },
  {
   "cell_type": "markdown",
   "metadata": {},
   "source": [
    "Bayesian_lasso returns the mean parameter values (mu), standard deviation (sigma), the probability of switching signs (p), and the sampling rate where autocorrelation drops to 10%. I've written it to automatically include a burn in period. "
   ]
  },
  {
   "cell_type": "code",
   "execution_count": 8,
   "metadata": {},
   "outputs": [
    {
     "data": {
      "image/png": "[encoded data removed]",
      "text/plain": [
       "<Figure size 432x288 with 2 Axes>"
      ]
     },
     "metadata": {
      "needs_background": "light"
     },
     "output_type": "display_data"
    }
   ],
   "source": [
    "x_bayesian_emcee = np.zeros(x_fit.shape)\n",
    "x_bayesian_std_emcee = np.zeros(x_fit.shape)\n",
    "x_bayesian_p_emcee = np.zeros(x_fit.shape)\n",
    "\n",
    "x_bayesian_emcee[non_zero] = mu\n",
    "x_bayesian_std_emcee[non_zero] = sigma\n",
    "Z_emcee = x_bayesian_emcee / (x_bayesian_std_emcee + (x_bayesian_std_emcee == 0))\n",
    "\n",
    "fig = plt.figure()\n",
    "ax = fig.add_axes([0.2,0.2,0.7,0.7])\n",
    "cax = ax.scatter(x_true, x_bayesian_emcee, c=np.abs(Z_emcee), s=30, zorder=11, cmap='cool', lw=0)\n",
    "ax.errorbar(x_true, x_bayesian_emcee, yerr=x_bayesian_std_emcee,fmt='.', lw=2, zorder=10, c=[0,0,0])\n",
    "cbar = plt.colorbar(cax)\n",
    "cbar.set_label('|Z|')\n",
    "ax.set_xlabel(r'true $x$')\n",
    "ax.set_ylabel(r'bayesian lasso fit $x$')\n",
    "ax.set_xticks(range(-3,4))\n",
    "ax.set_yticks(range(-3,4))\n",
    "plt.show()\n",
    "plt.close()"
   ]
  },
  {
   "cell_type": "markdown",
   "metadata": {},
   "source": [
    "This result seems pretty similar to the PyMC3 method. Let's see how the two compare to each other:"
   ]
  },
  {
   "cell_type": "code",
   "execution_count": 9,
   "metadata": {
    "scrolled": false
   },
   "outputs": [
    {
     "name": "stderr",
     "output_type": "stream",
     "text": [
      "*c* argument looks like a single numeric RGB or RGBA sequence, which should be avoided as value-mapping will have precedence in case its length matches with *x* & *y*.  Please use the *color* keyword-argument or provide a 2-D array with a single row if you intend to specify the same RGB or RGBA value for all points.\n",
      "*c* argument looks like a single numeric RGB or RGBA sequence, which should be avoided as value-mapping will have precedence in case its length matches with *x* & *y*.  Please use the *color* keyword-argument or provide a 2-D array with a single row if you intend to specify the same RGB or RGBA value for all points.\n"
     ]
    },
    {
     "data": {
      "image/png": "[encoded data removed]",
      "text/plain": [
       "<Figure size 432x288 with 1 Axes>"
      ]
     },
     "metadata": {
      "needs_background": "light"
     },
     "output_type": "display_data"
    }
   ],
   "source": [
    "true_non_zero = x_true!=0\n",
    "true_zero = x_true==0\n",
    "\n",
    "\n",
    "fig = plt.figure()\n",
    "ax = fig.add_axes([0.2,0.2,0.7,0.7])\n",
    "cax = ax.scatter(np.abs(Z[true_non_zero]), np.abs(Z_emcee[true_non_zero]), s=150, c=[1,0.5,0.5], label='non-zero')\n",
    "cax = ax.scatter(np.abs(Z[true_zero]), np.abs(Z_emcee[true_zero]), s=150, c=[0.5,0.5,1], label='zero')\n",
    "plt.legend(loc='upper left', scatterpoints=1)\n",
    "ax.set_xlabel(r'PyMC3 $|Z|$')\n",
    "ax.set_ylabel(r'emcee $|Z|$')\n",
    "ax.set_xlim(left=0)\n",
    "ax.set_ylim(bottom=0)\n",
    "plt.show()\n",
    "plt.close()"
   ]
  },
  {
   "cell_type": "markdown",
   "metadata": {},
   "source": [
    "Both emcee and PyMC3 methods give nearly perfectly correlated Z scores. However, emcee tends to give lower Z scores. I'm more inclined to trust the emcee scaling since PyMC3 does call Z scores up to 6-7 standard deviations for null parameters. My emcee implementation calls Z-scores in the 3-4 range for null parameters. Considering that I had 490 null parameters, finding a few parameters around 3-4 standard deviations seems fair, since this corresponds to what you would see from sampling a random normal distribution between 185 to 7142 times. \n",
    "\n",
    "I'm not really sure why this happens, because PyMC3 is a bit of a black box to me. However, in the Bayesian Lasso Log Likelihood formula, this term\n",
    "\\begin{align}\n",
    "\\frac{m + n+1}{2}\\text{ln} \\left [\\frac{1}{\\sigma^2} \\right]\n",
    "\\end{align}\n",
    "strongly affects the $\\sigma$ term that I find. Larger coefficients (e.g. $1000 \\cdot \\frac{m + n+1}{2}\\text{ln} \\left [\\frac{1}{\\sigma^2} \\right]$) are going to make emcee more confident about non-zero results, which could affect the scaling."
   ]
  }
 ],
 "metadata": {
  "anaconda-cloud": {},
  "kernelspec": {
   "display_name": "Python 3",
   "language": "python",
   "name": "python3"
  },
  "language_info": {
   "codemirror_mode": {
    "name": "ipython",
    "version": 3
   },
   "file_extension": ".py",
   "mimetype": "text/x-python",
   "name": "python",
   "nbconvert_exporter": "python",
   "pygments_lexer": "ipython3",
   "version": "3.8.5"
  }
 },
 "nbformat": 4,
 "nbformat_minor": 1
}
